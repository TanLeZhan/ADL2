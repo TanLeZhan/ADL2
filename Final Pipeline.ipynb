{
 "cells": [
  {
   "cell_type": "code",
   "execution_count": null,
   "id": "c5f6aca1",
   "metadata": {},
   "outputs": [],
   "source": [
    "import pandas as pd\n",
    "training_set = pd.read_csv('./DATA/training+synthetic+OHE/training_set.csv')\n",
    "cv_set = pd.read_csv('./DATA/CV set/cv_set.csv')\n",
    "holdout_set = pd.read_csv('./DATA/holdout_set/test_set.csv')"
   ]
  },
  {
   "cell_type": "code",
   "execution_count": null,
   "id": "7408c847",
   "metadata": {},
   "outputs": [],
   "source": []
  }
 ],
 "metadata": {
  "language_info": {
   "name": "python"
  }
 },
 "nbformat": 4,
 "nbformat_minor": 5
}
