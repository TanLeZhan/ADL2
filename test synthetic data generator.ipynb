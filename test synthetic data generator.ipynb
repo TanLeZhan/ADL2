{
 "cells": [
  {
   "cell_type": "code",
   "execution_count": null,
   "id": "85b1978b",
   "metadata": {},
   "outputs": [
    {
     "name": "stdout",
     "output_type": "stream",
     "text": [
      "Using cuda\n"
     ]
    },
    {
     "name": "stderr",
     "output_type": "stream",
     "text": [
      "c:\\Users\\TAN LE ZHAN\\Documents\\GitHub\\ADL2\\.venv\\Lib\\site-packages\\tqdm\\auto.py:21: TqdmWarning: IProgress not found. Please update jupyter and ipywidgets. See https://ipywidgets.readthedocs.io/en/stable/user_install.html\n",
      "  from .autonotebook import tqdm as notebook_tqdm\n"
     ]
    }
   ],
   "source": [
    "# from Training_Helper_Functions import *\n",
    "# from Preprocessing_Functions import * \n",
    "from sklearn.ensemble import IsolationForest\n",
    "from sklearn.preprocessing import RobustScaler\n",
    "import numpy as np\n",
    "import optuna\n",
    "from torch import optim\n",
    "import pandas as pd\n",
    "\n",
    "from sklearn.model_selection import train_test_split\n",
    "random_state = 42 \n",
    "raw_dataset = pd.read_csv(\"./original_dataset/processed_data_encoded.csv\") #data has X and Y, community 0-9\n",
    "X = raw_dataset.drop(columns=[\"BMI\", \"TCTG\", \"DR\"])\n",
    "Y = pd.DataFrame(raw_dataset[\"DR\"])\n",
    "# Slice your data\n",
    "X_FOR_FOLDS, X_FINAL_TEST, Y_FOR_FOLDS, Y_FINAL_TEST = train_test_split(X, Y, test_size=0.1, random_state=random_state, stratify=Y)\n",
    "df = pd.concat([X_FOR_FOLDS, Y_FOR_FOLDS], axis=1)\n",
    "df.reset_index(drop=True, inplace=True)"
   ]
  },
  {
   "cell_type": "code",
   "execution_count": null,
   "id": "211e3059",
   "metadata": {},
   "outputs": [
    {
     "name": "stderr",
     "output_type": "stream",
     "text": [
      "c:\\Users\\TAN LE ZHAN\\Documents\\GitHub\\ADL2\\.venv\\Lib\\site-packages\\sdv\\single_table\\base.py:105: UserWarning: We strongly recommend saving the metadata using 'save_to_json' for replicability in future SDV versions.\n",
      "  warnings.warn(\n"
     ]
    },
    {
     "name": "stdout",
     "output_type": "stream",
     "text": [
      "Original class distribution: DR\n",
      "0.0    4129\n",
      "1.0     464\n",
      "Name: count, dtype: int64\n",
      "After OD, majority: 2842\n",
      "After OD, minority: 302\n",
      "Before oversampling & synthetic data: DR \n",
      "0.0    2842\n",
      "1.0     302\n",
      "Name: count, dtype: int64\n",
      "\n",
      "Applying SMOTENC oversampling...\n",
      "               Age       Gender    Community         UAlb           Ucr  \\\n",
      "count  5684.000000  5684.000000  5684.000000  5684.000000   5684.000000   \n",
      "mean     63.311388     0.551372     3.994898    15.636081   3357.283830   \n",
      "std       6.777322     0.497398     3.121079    19.286878   5074.152681   \n",
      "min      43.000000     0.000000     0.000000     0.100000      1.000000   \n",
      "25%      59.000000     0.000000     1.000000     4.500000      6.000000   \n",
      "50%      63.596959     1.000000     4.000000     9.104616     10.654671   \n",
      "75%      68.000000     1.000000     7.000000    18.684888   6210.000000   \n",
      "max      84.000000     1.000000     9.000000   132.700000  21612.000000   \n",
      "\n",
      "              UACR           TC           TG         LDLC         HDLC  \\\n",
      "count  5684.000000  5684.000000  5684.000000  5684.000000  5684.000000   \n",
      "mean     17.320268     5.203379     1.401079     3.224435     1.353871   \n",
      "std      20.013378     0.881074     0.681436     0.793656     0.256652   \n",
      "min       0.100000     2.620000     0.110000     0.700000     0.600000   \n",
      "25%       5.400000     4.600000     0.900528     2.691344     1.169803   \n",
      "50%      10.197547     5.186101     1.234225     3.220000     1.326160   \n",
      "75%      22.100000     5.780000     1.770000     3.734063     1.520000   \n",
      "max     134.100000     8.150000     3.890000     5.690000     2.210000   \n",
      "\n",
      "               Scr          BUN          FPG        HbA1c       Height  \\\n",
      "count  5684.000000  5684.000000  5684.000000  5684.000000  5684.000000   \n",
      "mean     58.776492     5.812109     9.059666     7.353511   161.472820   \n",
      "std      12.966612     1.252538     2.250874     1.227963     7.210341   \n",
      "min      29.000000     2.100000     4.200000     4.300000   138.000000   \n",
      "25%      49.000000     4.909679     7.400000     6.400000   156.000000   \n",
      "50%      57.000000     5.700000     8.700000     7.200000   160.991523   \n",
      "75%      67.000000     6.601310    10.375413     8.200000   167.016336   \n",
      "max     101.000000    10.000000    18.000000    12.200000   185.000000   \n",
      "\n",
      "            Weight     Duration  \n",
      "count  5684.000000  5684.000000  \n",
      "mean     63.140050     8.560326  \n",
      "std       8.872109     5.573931  \n",
      "min      37.000000     0.100000  \n",
      "25%      56.191952     3.854771  \n",
      "50%      62.706455     7.816576  \n",
      "75%      69.614895    13.000000  \n",
      "max      92.000000    28.000000  \n",
      "\n",
      "Final class distribution: DR\n",
      "0.0    2842\n",
      "1.0    2842\n",
      "Name: count, dtype: int64\n",
      "Gay\n",
      "Balancing condition applied: adding DR=1 samples only\n"
     ]
    },
    {
     "name": "stderr",
     "output_type": "stream",
     "text": [
      "Loss: 44.282: 100%|██████████| 15/15 [00:04<00:00,  3.33it/s]\n",
      "Sampling conditions: 100%|██████████| 2842/2842 [00:00<00:00, 10723.05it/s]"
     ]
    },
    {
     "name": "stdout",
     "output_type": "stream",
     "text": [
      "After oversampling & synthetic data: DR \n",
      "1.0    5684\n",
      "0.0    2842\n",
      "Name: count, dtype: int64\n",
      "Fold: 1, Train: (8526, 28), Test: (1149, 28)\n"
     ]
    },
    {
     "name": "stderr",
     "output_type": "stream",
     "text": [
      "\n"
     ]
    }
   ],
   "source": [
    "scaler = RobustScaler()\n",
    "kFolds = FOLDS_GENERATOR(df, n_splits=5, random_state=42,             \n",
    "                            # OD_majority = IsolationForest(contamination=trial.suggest_float(\"contamination_majority\", 0.01, 0.4), random_state=random_state, \n",
    "                            OD_majority = IQRDetector(factor=1.5),\n",
    "                            OD_minority = IQRDetector(factor=1.5),\n",
    "                            oversampler_first = True,\n",
    "                            synthesizer = \"TVAE\",\n",
    "                            epochs = 15,\n",
    "                            n_synthetic_data = 10000,\n",
    "                            scaler=scaler,      \n",
    "                            ) # Pass outlier models and scaler\n"
   ]
  },
  {
   "cell_type": "code",
   "execution_count": null,
   "id": "da09e9b2",
   "metadata": {},
   "outputs": [],
   "source": []
  }
 ],
 "metadata": {
  "kernelspec": {
   "display_name": ".venv",
   "language": "python",
   "name": "python3"
  },
  "language_info": {
   "codemirror_mode": {
    "name": "ipython",
    "version": 3
   },
   "file_extension": ".py",
   "mimetype": "text/x-python",
   "name": "python",
   "nbconvert_exporter": "python",
   "pygments_lexer": "ipython3",
   "version": "3.11.9"
  }
 },
 "nbformat": 4,
 "nbformat_minor": 5
}
